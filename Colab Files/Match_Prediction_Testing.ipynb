{
  "nbformat": 4,
  "nbformat_minor": 0,
  "metadata": {
    "colab": {
      "provenance": []
    },
    "kernelspec": {
      "name": "python3",
      "display_name": "Python 3"
    },
    "language_info": {
      "name": "python"
    }
  },
  "cells": [
    {
      "cell_type": "code",
      "execution_count": 1,
      "metadata": {
        "colab": {
          "base_uri": "https://localhost:8080/"
        },
        "id": "DO56yMrGVPBQ",
        "outputId": "8a4515a0-75b6-4c82-c1f1-86d44d3d3f3f"
      },
      "outputs": [
        {
          "output_type": "stream",
          "name": "stdout",
          "text": [
            "Mounted at /content/drive\n"
          ]
        }
      ],
      "source": [
        "from google.colab import drive\n",
        "drive.mount('/content/drive')"
      ]
    },
    {
      "cell_type": "code",
      "source": [
        "import numpy as np\n",
        "import joblib\n",
        "from tensorflow.keras.models import load_model"
      ],
      "metadata": {
        "id": "lFXq4apRV6HK"
      },
      "execution_count": 2,
      "outputs": []
    },
    {
      "cell_type": "code",
      "source": [
        "# Load the saved model, encoders, and scaler\n",
        "model = load_model('/content/drive/MyDrive/Uwa FYP/Models/football_prediction_model.h5')\n",
        "team_label_encoder = joblib.load('/content/drive/MyDrive/Uwa FYP/Models/team_label_encoder.pkl')\n",
        "outcome_label_encoder = joblib.load('/content/drive/MyDrive/Uwa FYP/Models/outcome_label_encoder.pkl')\n",
        "scaler = joblib.load('/content/drive/MyDrive/Uwa FYP/Models/scaler.pkl')\n",
        "\n",
        "print(\"Model and encoders loaded successfully.\")"
      ],
      "metadata": {
        "colab": {
          "base_uri": "https://localhost:8080/"
        },
        "id": "F_-QAIyxV_Hs",
        "outputId": "273b98cc-f34c-4df5-aa3a-d4b37a09a35f"
      },
      "execution_count": 3,
      "outputs": [
        {
          "output_type": "stream",
          "name": "stderr",
          "text": [
            "WARNING:absl:Compiled the loaded model, but the compiled metrics have yet to be built. `model.compile_metrics` will be empty until you train or evaluate the model.\n"
          ]
        },
        {
          "output_type": "stream",
          "name": "stdout",
          "text": [
            "Model and encoders loaded successfully.\n"
          ]
        }
      ]
    },
    {
      "cell_type": "code",
      "source": [
        "# Function to predict the outcome of a match\n",
        "def predict_outcome(home_team, away_team, year, month, day, temperature):\n",
        "    # Check if the teams exist in the encoder\n",
        "    try:\n",
        "        home_team_encoded = team_label_encoder.transform([home_team])[0]\n",
        "    except ValueError:\n",
        "        print(f\"Warning: {home_team} not seen before, assigning default encoding.\")\n",
        "        home_team_encoded = 0\n",
        "\n",
        "    try:\n",
        "        away_team_encoded = team_label_encoder.transform([away_team])[0]\n",
        "    except ValueError:\n",
        "        print(f\"Warning: {away_team} not seen before, assigning default encoding.\")\n",
        "        away_team_encoded = 0\n",
        "\n",
        "    # Scale the temperature\n",
        "    temperature_scaled = scaler.transform([[temperature]])[0][0]\n",
        "\n",
        "    # Prepare the input for the model\n",
        "    input_data = np.array([[home_team_encoded, away_team_encoded, year, month, day, temperature_scaled]])\n",
        "    input_data = input_data.reshape((1, 1, 6))\n",
        "\n",
        "    # Make the prediction\n",
        "    prediction = model.predict(input_data)\n",
        "    outcome_index = np.argmax(prediction)\n",
        "\n",
        "    # Map the prediction back to the original outcome labels\n",
        "    outcome_label = outcome_label_encoder.inverse_transform([outcome_index])\n",
        "    return outcome_label[0]\n",
        "\n",
        "\n",
        "\n"
      ],
      "metadata": {
        "id": "g95pzSISVU_3"
      },
      "execution_count": 14,
      "outputs": []
    },
    {
      "cell_type": "code",
      "source": [
        "# Test the loaded model with a new example\n",
        "home_team = 'Scotland'\n",
        "away_team = 'England'\n",
        "year = 2024\n",
        "month = 11\n",
        "day = 25\n",
        "temperature = 15\n",
        "\n",
        "predicted_outcome = predict_outcome(home_team, away_team, year, month, day, temperature)\n",
        "print(f\"The predicted outcome is: {predicted_outcome}\")"
      ],
      "metadata": {
        "colab": {
          "base_uri": "https://localhost:8080/"
        },
        "id": "npYEqcfJF7rm",
        "outputId": "4cd931b9-db3e-4e26-b642-201d84c1d2a8"
      },
      "execution_count": 15,
      "outputs": [
        {
          "output_type": "stream",
          "name": "stdout",
          "text": [
            "\u001b[1m1/1\u001b[0m \u001b[32m━━━━━━━━━━━━━━━━━━━━\u001b[0m\u001b[37m\u001b[0m \u001b[1m0s\u001b[0m 19ms/step\n",
            "The predicted outcome is: home_win\n"
          ]
        },
        {
          "output_type": "stream",
          "name": "stderr",
          "text": [
            "/usr/local/lib/python3.10/dist-packages/sklearn/base.py:465: UserWarning: X does not have valid feature names, but MinMaxScaler was fitted with feature names\n",
            "  warnings.warn(\n"
          ]
        }
      ]
    },
    {
      "cell_type": "code",
      "source": [
        "# Test the loaded model with a new example\n",
        "home_team = 'Italy'\n",
        "away_team = 'Germany'\n",
        "year = 2024\n",
        "month = 11\n",
        "day = 25\n",
        "temperature = 15\n",
        "\n",
        "predicted_outcome = predict_outcome(home_team, away_team, year, month, day, temperature)\n",
        "print(f\"The predicted outcome is: {predicted_outcome}\")"
      ],
      "metadata": {
        "colab": {
          "base_uri": "https://localhost:8080/"
        },
        "id": "ftbF43lJF9A-",
        "outputId": "860df598-107e-4ec8-d67b-b7b98d503081"
      },
      "execution_count": 16,
      "outputs": [
        {
          "output_type": "stream",
          "name": "stdout",
          "text": [
            "Warning: Italy not seen before, assigning default encoding.\n",
            "Warning: Germany not seen before, assigning default encoding.\n",
            "\u001b[1m1/1\u001b[0m \u001b[32m━━━━━━━━━━━━━━━━━━━━\u001b[0m\u001b[37m\u001b[0m \u001b[1m0s\u001b[0m 25ms/step\n",
            "The predicted outcome is: home_win\n"
          ]
        },
        {
          "output_type": "stream",
          "name": "stderr",
          "text": [
            "/usr/local/lib/python3.10/dist-packages/sklearn/base.py:465: UserWarning: X does not have valid feature names, but MinMaxScaler was fitted with feature names\n",
            "  warnings.warn(\n"
          ]
        }
      ]
    }
  ]
}