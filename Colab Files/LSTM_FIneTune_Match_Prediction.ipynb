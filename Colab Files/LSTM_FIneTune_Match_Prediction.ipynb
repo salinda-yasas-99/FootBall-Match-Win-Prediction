{
  "nbformat": 4,
  "nbformat_minor": 0,
  "metadata": {
    "colab": {
      "provenance": []
    },
    "kernelspec": {
      "name": "python3",
      "display_name": "Python 3"
    },
    "language_info": {
      "name": "python"
    }
  },
  "cells": [
    {
      "cell_type": "code",
      "source": [
        "from google.colab import drive\n",
        "drive.mount('/content/drive')"
      ],
      "metadata": {
        "colab": {
          "base_uri": "https://localhost:8080/"
        },
        "id": "WXB6hUqGRn9q",
        "outputId": "6c0c7104-b5ae-4ede-dd62-d981c4fd4624"
      },
      "execution_count": 1,
      "outputs": [
        {
          "output_type": "stream",
          "name": "stdout",
          "text": [
            "Mounted at /content/drive\n"
          ]
        }
      ]
    },
    {
      "cell_type": "code",
      "execution_count": 13,
      "metadata": {
        "colab": {
          "base_uri": "https://localhost:8080/"
        },
        "id": "D3sTgDt-Rl4m",
        "outputId": "9c741d15-0e10-4164-bf6d-0f65c99a78c7"
      },
      "outputs": [
        {
          "output_type": "stream",
          "name": "stdout",
          "text": [
            "Number of missing dates: 47272\n"
          ]
        },
        {
          "output_type": "stream",
          "name": "stderr",
          "text": [
            "<ipython-input-13-b6ffd82dad0d>:33: SettingWithCopyWarning: \n",
            "A value is trying to be set on a copy of a slice from a DataFrame.\n",
            "Try using .loc[row_indexer,col_indexer] = value instead\n",
            "\n",
            "See the caveats in the documentation: https://pandas.pydata.org/pandas-docs/stable/user_guide/indexing.html#returning-a-view-versus-a-copy\n",
            "  data['outcome'] = data.apply(match_outcome, axis=1)\n",
            "<ipython-input-13-b6ffd82dad0d>:36: SettingWithCopyWarning: \n",
            "A value is trying to be set on a copy of a slice from a DataFrame.\n",
            "Try using .loc[row_indexer,col_indexer] = value instead\n",
            "\n",
            "See the caveats in the documentation: https://pandas.pydata.org/pandas-docs/stable/user_guide/indexing.html#returning-a-view-versus-a-copy\n",
            "  data['year'] = data['date'].dt.year\n",
            "<ipython-input-13-b6ffd82dad0d>:37: SettingWithCopyWarning: \n",
            "A value is trying to be set on a copy of a slice from a DataFrame.\n",
            "Try using .loc[row_indexer,col_indexer] = value instead\n",
            "\n",
            "See the caveats in the documentation: https://pandas.pydata.org/pandas-docs/stable/user_guide/indexing.html#returning-a-view-versus-a-copy\n",
            "  data['month'] = data['date'].dt.month\n",
            "<ipython-input-13-b6ffd82dad0d>:38: SettingWithCopyWarning: \n",
            "A value is trying to be set on a copy of a slice from a DataFrame.\n",
            "Try using .loc[row_indexer,col_indexer] = value instead\n",
            "\n",
            "See the caveats in the documentation: https://pandas.pydata.org/pandas-docs/stable/user_guide/indexing.html#returning-a-view-versus-a-copy\n",
            "  data['day'] = data['date'].dt.day\n",
            "<ipython-input-13-b6ffd82dad0d>:48: SettingWithCopyWarning: \n",
            "A value is trying to be set on a copy of a slice from a DataFrame.\n",
            "Try using .loc[row_indexer,col_indexer] = value instead\n",
            "\n",
            "See the caveats in the documentation: https://pandas.pydata.org/pandas-docs/stable/user_guide/indexing.html#returning-a-view-versus-a-copy\n",
            "  data['home_team_encoded'] = team_label_encoder.transform(data['home_team'])\n",
            "<ipython-input-13-b6ffd82dad0d>:49: SettingWithCopyWarning: \n",
            "A value is trying to be set on a copy of a slice from a DataFrame.\n",
            "Try using .loc[row_indexer,col_indexer] = value instead\n",
            "\n",
            "See the caveats in the documentation: https://pandas.pydata.org/pandas-docs/stable/user_guide/indexing.html#returning-a-view-versus-a-copy\n",
            "  data['away_team_encoded'] = team_label_encoder.transform(data['away_team'])\n",
            "<ipython-input-13-b6ffd82dad0d>:50: SettingWithCopyWarning: \n",
            "A value is trying to be set on a copy of a slice from a DataFrame.\n",
            "Try using .loc[row_indexer,col_indexer] = value instead\n",
            "\n",
            "See the caveats in the documentation: https://pandas.pydata.org/pandas-docs/stable/user_guide/indexing.html#returning-a-view-versus-a-copy\n",
            "  data['outcome_encoded'] = outcome_label_encoder.fit_transform(data['outcome'])\n",
            "<ipython-input-13-b6ffd82dad0d>:54: SettingWithCopyWarning: \n",
            "A value is trying to be set on a copy of a slice from a DataFrame.\n",
            "Try using .loc[row_indexer,col_indexer] = value instead\n",
            "\n",
            "See the caveats in the documentation: https://pandas.pydata.org/pandas-docs/stable/user_guide/indexing.html#returning-a-view-versus-a-copy\n",
            "  data['temperature_scaled'] = scaler.fit_transform(data[['temperature']])\n",
            "/usr/local/lib/python3.10/dist-packages/keras/src/layers/rnn/rnn.py:204: UserWarning: Do not pass an `input_shape`/`input_dim` argument to a layer. When using Sequential models, prefer using an `Input(shape)` object as the first layer in the model instead.\n",
            "  super().__init__(**kwargs)\n"
          ]
        }
      ],
      "source": [
        "import pandas as pd\n",
        "import numpy as np\n",
        "from sklearn.preprocessing import LabelEncoder, MinMaxScaler\n",
        "from sklearn.model_selection import train_test_split\n",
        "from tensorflow.keras.models import Sequential\n",
        "from tensorflow.keras.layers import LSTM, Dense, Dropout\n",
        "from tensorflow.keras.optimizers import Adam\n",
        "from tensorflow.keras.utils import to_categorical\n",
        "\n",
        "# Step 1: Load and preprocess the data\n",
        "file_path = '/content/drive/MyDrive/Uwa FYP/Dataset/match-status-temp.csv'  # Adjust the path if needed\n",
        "data = pd.read_csv(file_path)\n",
        "\n",
        "# Corrected Date Parsing Code\n",
        "# Allow pandas to infer the correct date format\n",
        "data['date'] = pd.to_datetime(data['date'], errors='coerce', dayfirst=False)\n",
        "\n",
        "# Check for any parsing errors (NaT values)\n",
        "print(\"Number of missing dates:\", data['date'].isna().sum())\n",
        "\n",
        "# Optionally drop rows with invalid dates\n",
        "data = data.dropna(subset=['date'])\n",
        "\n",
        "# Create a new column `outcome` based on match result (win/loss/draw)\n",
        "def match_outcome(row):\n",
        "    if row['home_score'] > row['away_score']:\n",
        "        return 'home_win'\n",
        "    elif row['home_score'] < row['away_score']:\n",
        "        return 'away_win'\n",
        "    else:\n",
        "        return 'draw'\n",
        "\n",
        "data['outcome'] = data.apply(match_outcome, axis=1)\n",
        "\n",
        "# Feature engineering: Extract `year`, `month`, and `day` from the date\n",
        "data['year'] = data['date'].dt.year\n",
        "data['month'] = data['date'].dt.month\n",
        "data['day'] = data['date'].dt.day\n",
        "\n",
        "# Prepare categorical encoders for teams and outcome\n",
        "team_label_encoder = LabelEncoder()\n",
        "outcome_label_encoder = LabelEncoder()\n",
        "\n",
        "# Fit the encoders on all possible values in the dataset\n",
        "team_label_encoder.fit(pd.concat([data['home_team'], data['away_team']]))\n",
        "\n",
        "# Encode the categorical columns\n",
        "data['home_team_encoded'] = team_label_encoder.transform(data['home_team'])\n",
        "data['away_team_encoded'] = team_label_encoder.transform(data['away_team'])\n",
        "data['outcome_encoded'] = outcome_label_encoder.fit_transform(data['outcome'])\n",
        "\n",
        "# Normalize continuous columns such as temperature\n",
        "scaler = MinMaxScaler()\n",
        "data['temperature_scaled'] = scaler.fit_transform(data[['temperature']])\n",
        "\n",
        "# Prepare the feature columns for the LSTM model\n",
        "features = data[['home_team_encoded', 'away_team_encoded', 'year', 'month', 'day', 'temperature_scaled']]\n",
        "target = data['outcome_encoded']\n",
        "\n",
        "# Convert features to numpy array and reshape to match LSTM input requirements\n",
        "X = np.array(features).reshape((features.shape[0], 1, features.shape[1]))\n",
        "\n",
        "# One-hot encode the target\n",
        "y = to_categorical(target)\n",
        "\n",
        "# Step 2: Split the data into training and testing sets\n",
        "X_train, X_test, y_train, y_test = train_test_split(X, y, test_size=0.2, random_state=42)\n",
        "\n",
        "# Step 3: Build the LSTM model with additional layers and dropout\n",
        "model = Sequential()\n",
        "model.add(LSTM(64, activation='relu', input_shape=(X_train.shape[1], X_train.shape[2]), return_sequences=True))\n",
        "model.add(Dropout(0.2))  # Dropout to prevent overfitting\n",
        "model.add(LSTM(32, activation='relu'))\n",
        "model.add(Dense(3, activation='softmax'))  # 3 classes: home_win, away_win, draw\n",
        "\n",
        "# Compile the model with a lower learning rate for better training\n",
        "optimizer = Adam(learning_rate=0.001)\n",
        "model.compile(optimizer='adam', loss='categorical_crossentropy', metrics=['accuracy'])\n",
        "\n"
      ]
    },
    {
      "cell_type": "code",
      "source": [
        "# Step 4: Train the model with more epochs\n",
        "history = model.fit(X_train, y_train, epochs=50, batch_size=32, validation_data=(X_test, y_test))\n",
        "\n",
        "# Step 5: Evaluate the model on the test data\n",
        "test_loss, test_accuracy = model.evaluate(X_test, y_test)\n",
        "\n",
        "print(f\"Test Loss: {test_loss}, Test Accuracy: {test_accuracy}\")\n",
        "\n"
      ],
      "metadata": {
        "colab": {
          "base_uri": "https://localhost:8080/"
        },
        "id": "snCmrLcER7sw",
        "outputId": "b0ccdb00-e3e4-4f39-b7f6-a054c8563932"
      },
      "execution_count": 14,
      "outputs": [
        {
          "output_type": "stream",
          "name": "stdout",
          "text": [
            "Epoch 1/50\n",
            "\u001b[1m4/4\u001b[0m \u001b[32m━━━━━━━━━━━━━━━━━━━━\u001b[0m\u001b[37m\u001b[0m \u001b[1m4s\u001b[0m 161ms/step - accuracy: 0.5880 - loss: 3.9179 - val_accuracy: 0.3077 - val_loss: 2.2972\n",
            "Epoch 2/50\n",
            "\u001b[1m4/4\u001b[0m \u001b[32m━━━━━━━━━━━━━━━━━━━━\u001b[0m\u001b[37m\u001b[0m \u001b[1m0s\u001b[0m 13ms/step - accuracy: 0.4763 - loss: 2.7343 - val_accuracy: 0.4231 - val_loss: 2.1690\n",
            "Epoch 3/50\n",
            "\u001b[1m4/4\u001b[0m \u001b[32m━━━━━━━━━━━━━━━━━━━━\u001b[0m\u001b[37m\u001b[0m \u001b[1m0s\u001b[0m 14ms/step - accuracy: 0.5036 - loss: 2.2863 - val_accuracy: 0.4231 - val_loss: 1.7232\n",
            "Epoch 4/50\n",
            "\u001b[1m4/4\u001b[0m \u001b[32m━━━━━━━━━━━━━━━━━━━━\u001b[0m\u001b[37m\u001b[0m \u001b[1m0s\u001b[0m 15ms/step - accuracy: 0.4995 - loss: 1.8308 - val_accuracy: 0.3077 - val_loss: 1.7665\n",
            "Epoch 5/50\n",
            "\u001b[1m4/4\u001b[0m \u001b[32m━━━━━━━━━━━━━━━━━━━━\u001b[0m\u001b[37m\u001b[0m \u001b[1m0s\u001b[0m 13ms/step - accuracy: 0.6197 - loss: 1.4119 - val_accuracy: 0.3077 - val_loss: 1.5823\n",
            "Epoch 6/50\n",
            "\u001b[1m4/4\u001b[0m \u001b[32m━━━━━━━━━━━━━━━━━━━━\u001b[0m\u001b[37m\u001b[0m \u001b[1m0s\u001b[0m 24ms/step - accuracy: 0.5230 - loss: 1.8530 - val_accuracy: 0.4231 - val_loss: 1.2356\n",
            "Epoch 7/50\n",
            "\u001b[1m4/4\u001b[0m \u001b[32m━━━━━━━━━━━━━━━━━━━━\u001b[0m\u001b[37m\u001b[0m \u001b[1m0s\u001b[0m 21ms/step - accuracy: 0.4474 - loss: 1.1637 - val_accuracy: 0.4231 - val_loss: 1.2128\n",
            "Epoch 8/50\n",
            "\u001b[1m4/4\u001b[0m \u001b[32m━━━━━━━━━━━━━━━━━━━━\u001b[0m\u001b[37m\u001b[0m \u001b[1m0s\u001b[0m 18ms/step - accuracy: 0.5045 - loss: 1.2100 - val_accuracy: 0.3077 - val_loss: 1.2864\n",
            "Epoch 9/50\n",
            "\u001b[1m4/4\u001b[0m \u001b[32m━━━━━━━━━━━━━━━━━━━━\u001b[0m\u001b[37m\u001b[0m \u001b[1m0s\u001b[0m 15ms/step - accuracy: 0.4924 - loss: 1.1960 - val_accuracy: 0.3077 - val_loss: 1.2397\n",
            "Epoch 10/50\n",
            "\u001b[1m4/4\u001b[0m \u001b[32m━━━━━━━━━━━━━━━━━━━━\u001b[0m\u001b[37m\u001b[0m \u001b[1m0s\u001b[0m 14ms/step - accuracy: 0.5307 - loss: 1.3944 - val_accuracy: 0.3077 - val_loss: 1.2026\n",
            "Epoch 11/50\n",
            "\u001b[1m4/4\u001b[0m \u001b[32m━━━━━━━━━━━━━━━━━━━━\u001b[0m\u001b[37m\u001b[0m \u001b[1m0s\u001b[0m 15ms/step - accuracy: 0.5747 - loss: 1.0550 - val_accuracy: 0.3077 - val_loss: 1.1803\n",
            "Epoch 12/50\n",
            "\u001b[1m4/4\u001b[0m \u001b[32m━━━━━━━━━━━━━━━━━━━━\u001b[0m\u001b[37m\u001b[0m \u001b[1m0s\u001b[0m 15ms/step - accuracy: 0.5668 - loss: 0.9651 - val_accuracy: 0.3077 - val_loss: 1.1110\n",
            "Epoch 13/50\n",
            "\u001b[1m4/4\u001b[0m \u001b[32m━━━━━━━━━━━━━━━━━━━━\u001b[0m\u001b[37m\u001b[0m \u001b[1m0s\u001b[0m 15ms/step - accuracy: 0.5247 - loss: 0.9413 - val_accuracy: 0.3462 - val_loss: 1.0973\n",
            "Epoch 14/50\n",
            "\u001b[1m4/4\u001b[0m \u001b[32m━━━━━━━━━━━━━━━━━━━━\u001b[0m\u001b[37m\u001b[0m \u001b[1m0s\u001b[0m 15ms/step - accuracy: 0.3826 - loss: 1.1634 - val_accuracy: 0.1923 - val_loss: 1.0988\n",
            "Epoch 15/50\n",
            "\u001b[1m4/4\u001b[0m \u001b[32m━━━━━━━━━━━━━━━━━━━━\u001b[0m\u001b[37m\u001b[0m \u001b[1m0s\u001b[0m 14ms/step - accuracy: 0.5645 - loss: 0.9688 - val_accuracy: 0.3846 - val_loss: 1.0934\n",
            "Epoch 16/50\n",
            "\u001b[1m4/4\u001b[0m \u001b[32m━━━━━━━━━━━━━━━━━━━━\u001b[0m\u001b[37m\u001b[0m \u001b[1m0s\u001b[0m 34ms/step - accuracy: 0.4636 - loss: 1.0044 - val_accuracy: 0.3077 - val_loss: 1.1393\n",
            "Epoch 17/50\n",
            "\u001b[1m4/4\u001b[0m \u001b[32m━━━━━━━━━━━━━━━━━━━━\u001b[0m\u001b[37m\u001b[0m \u001b[1m0s\u001b[0m 25ms/step - accuracy: 0.5118 - loss: 1.0895 - val_accuracy: 0.3077 - val_loss: 1.2431\n",
            "Epoch 18/50\n",
            "\u001b[1m4/4\u001b[0m \u001b[32m━━━━━━━━━━━━━━━━━━━━\u001b[0m\u001b[37m\u001b[0m \u001b[1m0s\u001b[0m 20ms/step - accuracy: 0.5289 - loss: 1.0054 - val_accuracy: 0.3077 - val_loss: 1.2364\n",
            "Epoch 19/50\n",
            "\u001b[1m4/4\u001b[0m \u001b[32m━━━━━━━━━━━━━━━━━━━━\u001b[0m\u001b[37m\u001b[0m \u001b[1m0s\u001b[0m 26ms/step - accuracy: 0.6085 - loss: 0.9824 - val_accuracy: 0.2692 - val_loss: 1.1364\n",
            "Epoch 20/50\n",
            "\u001b[1m4/4\u001b[0m \u001b[32m━━━━━━━━━━━━━━━━━━━━\u001b[0m\u001b[37m\u001b[0m \u001b[1m0s\u001b[0m 20ms/step - accuracy: 0.5274 - loss: 0.9544 - val_accuracy: 0.4231 - val_loss: 1.0962\n",
            "Epoch 21/50\n",
            "\u001b[1m4/4\u001b[0m \u001b[32m━━━━━━━━━━━━━━━━━━━━\u001b[0m\u001b[37m\u001b[0m \u001b[1m0s\u001b[0m 25ms/step - accuracy: 0.4213 - loss: 1.0342 - val_accuracy: 0.3077 - val_loss: 1.1133\n",
            "Epoch 22/50\n",
            "\u001b[1m4/4\u001b[0m \u001b[32m━━━━━━━━━━━━━━━━━━━━\u001b[0m\u001b[37m\u001b[0m \u001b[1m0s\u001b[0m 19ms/step - accuracy: 0.5055 - loss: 1.0108 - val_accuracy: 0.3077 - val_loss: 1.2603\n",
            "Epoch 23/50\n",
            "\u001b[1m4/4\u001b[0m \u001b[32m━━━━━━━━━━━━━━━━━━━━\u001b[0m\u001b[37m\u001b[0m \u001b[1m0s\u001b[0m 19ms/step - accuracy: 0.5582 - loss: 0.9887 - val_accuracy: 0.3077 - val_loss: 1.2846\n",
            "Epoch 24/50\n",
            "\u001b[1m4/4\u001b[0m \u001b[32m━━━━━━━━━━━━━━━━━━━━\u001b[0m\u001b[37m\u001b[0m \u001b[1m0s\u001b[0m 19ms/step - accuracy: 0.5453 - loss: 1.0438 - val_accuracy: 0.2308 - val_loss: 1.1296\n",
            "Epoch 25/50\n",
            "\u001b[1m4/4\u001b[0m \u001b[32m━━━━━━━━━━━━━━━━━━━━\u001b[0m\u001b[37m\u001b[0m \u001b[1m0s\u001b[0m 20ms/step - accuracy: 0.4943 - loss: 1.0454 - val_accuracy: 0.3077 - val_loss: 1.1513\n",
            "Epoch 26/50\n",
            "\u001b[1m4/4\u001b[0m \u001b[32m━━━━━━━━━━━━━━━━━━━━\u001b[0m\u001b[37m\u001b[0m \u001b[1m0s\u001b[0m 20ms/step - accuracy: 0.4772 - loss: 0.9829 - val_accuracy: 0.3077 - val_loss: 1.2242\n",
            "Epoch 27/50\n",
            "\u001b[1m4/4\u001b[0m \u001b[32m━━━━━━━━━━━━━━━━━━━━\u001b[0m\u001b[37m\u001b[0m \u001b[1m0s\u001b[0m 25ms/step - accuracy: 0.5099 - loss: 1.1619 - val_accuracy: 0.3077 - val_loss: 1.2261\n",
            "Epoch 28/50\n",
            "\u001b[1m4/4\u001b[0m \u001b[32m━━━━━━━━━━━━━━━━━━━━\u001b[0m\u001b[37m\u001b[0m \u001b[1m0s\u001b[0m 19ms/step - accuracy: 0.5660 - loss: 0.9915 - val_accuracy: 0.3077 - val_loss: 1.1639\n",
            "Epoch 29/50\n",
            "\u001b[1m4/4\u001b[0m \u001b[32m━━━━━━━━━━━━━━━━━━━━\u001b[0m\u001b[37m\u001b[0m \u001b[1m0s\u001b[0m 19ms/step - accuracy: 0.5532 - loss: 0.8983 - val_accuracy: 0.3077 - val_loss: 1.1941\n",
            "Epoch 30/50\n",
            "\u001b[1m4/4\u001b[0m \u001b[32m━━━━━━━━━━━━━━━━━━━━\u001b[0m\u001b[37m\u001b[0m \u001b[1m0s\u001b[0m 26ms/step - accuracy: 0.5457 - loss: 0.9480 - val_accuracy: 0.3077 - val_loss: 1.2080\n",
            "Epoch 31/50\n",
            "\u001b[1m4/4\u001b[0m \u001b[32m━━━━━━━━━━━━━━━━━━━━\u001b[0m\u001b[37m\u001b[0m \u001b[1m0s\u001b[0m 21ms/step - accuracy: 0.5184 - loss: 1.0675 - val_accuracy: 0.3077 - val_loss: 1.1870\n",
            "Epoch 32/50\n",
            "\u001b[1m4/4\u001b[0m \u001b[32m━━━━━━━━━━━━━━━━━━━━\u001b[0m\u001b[37m\u001b[0m \u001b[1m0s\u001b[0m 21ms/step - accuracy: 0.5082 - loss: 0.9731 - val_accuracy: 0.3077 - val_loss: 1.1629\n",
            "Epoch 33/50\n",
            "\u001b[1m4/4\u001b[0m \u001b[32m━━━━━━━━━━━━━━━━━━━━\u001b[0m\u001b[37m\u001b[0m \u001b[1m0s\u001b[0m 26ms/step - accuracy: 0.4095 - loss: 0.9967 - val_accuracy: 0.3077 - val_loss: 1.1653\n",
            "Epoch 34/50\n",
            "\u001b[1m4/4\u001b[0m \u001b[32m━━━━━━━━━━━━━━━━━━━━\u001b[0m\u001b[37m\u001b[0m \u001b[1m0s\u001b[0m 34ms/step - accuracy: 0.5066 - loss: 0.9339 - val_accuracy: 0.3077 - val_loss: 1.1711\n",
            "Epoch 35/50\n",
            "\u001b[1m4/4\u001b[0m \u001b[32m━━━━━━━━━━━━━━━━━━━━\u001b[0m\u001b[37m\u001b[0m \u001b[1m0s\u001b[0m 22ms/step - accuracy: 0.4903 - loss: 0.9988 - val_accuracy: 0.3077 - val_loss: 1.2574\n",
            "Epoch 36/50\n",
            "\u001b[1m4/4\u001b[0m \u001b[32m━━━━━━━━━━━━━━━━━━━━\u001b[0m\u001b[37m\u001b[0m \u001b[1m0s\u001b[0m 25ms/step - accuracy: 0.5364 - loss: 0.9679 - val_accuracy: 0.3077 - val_loss: 1.4174\n",
            "Epoch 37/50\n",
            "\u001b[1m4/4\u001b[0m \u001b[32m━━━━━━━━━━━━━━━━━━━━\u001b[0m\u001b[37m\u001b[0m \u001b[1m0s\u001b[0m 26ms/step - accuracy: 0.5851 - loss: 1.0374 - val_accuracy: 0.3077 - val_loss: 1.3290\n",
            "Epoch 38/50\n",
            "\u001b[1m4/4\u001b[0m \u001b[32m━━━━━━━━━━━━━━━━━━━━\u001b[0m\u001b[37m\u001b[0m \u001b[1m0s\u001b[0m 25ms/step - accuracy: 0.5664 - loss: 0.9705 - val_accuracy: 0.4231 - val_loss: 1.1383\n",
            "Epoch 39/50\n",
            "\u001b[1m4/4\u001b[0m \u001b[32m━━━━━━━━━━━━━━━━━━━━\u001b[0m\u001b[37m\u001b[0m \u001b[1m0s\u001b[0m 27ms/step - accuracy: 0.3745 - loss: 0.9858 - val_accuracy: 0.4231 - val_loss: 1.1089\n",
            "Epoch 40/50\n",
            "\u001b[1m4/4\u001b[0m \u001b[32m━━━━━━━━━━━━━━━━━━━━\u001b[0m\u001b[37m\u001b[0m \u001b[1m0s\u001b[0m 28ms/step - accuracy: 0.4903 - loss: 0.9833 - val_accuracy: 0.3077 - val_loss: 1.1591\n",
            "Epoch 41/50\n",
            "\u001b[1m4/4\u001b[0m \u001b[32m━━━━━━━━━━━━━━━━━━━━\u001b[0m\u001b[37m\u001b[0m \u001b[1m0s\u001b[0m 21ms/step - accuracy: 0.5345 - loss: 1.0024 - val_accuracy: 0.3077 - val_loss: 1.2252\n",
            "Epoch 42/50\n",
            "\u001b[1m4/4\u001b[0m \u001b[32m━━━━━━━━━━━━━━━━━━━━\u001b[0m\u001b[37m\u001b[0m \u001b[1m0s\u001b[0m 13ms/step - accuracy: 0.6018 - loss: 0.9271 - val_accuracy: 0.3077 - val_loss: 1.1867\n",
            "Epoch 43/50\n",
            "\u001b[1m4/4\u001b[0m \u001b[32m━━━━━━━━━━━━━━━━━━━━\u001b[0m\u001b[37m\u001b[0m \u001b[1m0s\u001b[0m 16ms/step - accuracy: 0.5389 - loss: 1.0249 - val_accuracy: 0.4231 - val_loss: 1.1456\n",
            "Epoch 44/50\n",
            "\u001b[1m4/4\u001b[0m \u001b[32m━━━━━━━━━━━━━━━━━━━━\u001b[0m\u001b[37m\u001b[0m \u001b[1m0s\u001b[0m 14ms/step - accuracy: 0.5026 - loss: 0.9787 - val_accuracy: 0.4231 - val_loss: 1.1594\n",
            "Epoch 45/50\n",
            "\u001b[1m4/4\u001b[0m \u001b[32m━━━━━━━━━━━━━━━━━━━━\u001b[0m\u001b[37m\u001b[0m \u001b[1m0s\u001b[0m 14ms/step - accuracy: 0.4811 - loss: 0.9029 - val_accuracy: 0.3077 - val_loss: 1.2607\n",
            "Epoch 46/50\n",
            "\u001b[1m4/4\u001b[0m \u001b[32m━━━━━━━━━━━━━━━━━━━━\u001b[0m\u001b[37m\u001b[0m \u001b[1m0s\u001b[0m 14ms/step - accuracy: 0.5414 - loss: 0.9217 - val_accuracy: 0.3077 - val_loss: 1.3611\n",
            "Epoch 47/50\n",
            "\u001b[1m4/4\u001b[0m \u001b[32m━━━━━━━━━━━━━━━━━━━━\u001b[0m\u001b[37m\u001b[0m \u001b[1m0s\u001b[0m 14ms/step - accuracy: 0.5187 - loss: 1.1180 - val_accuracy: 0.3077 - val_loss: 1.2959\n",
            "Epoch 48/50\n",
            "\u001b[1m4/4\u001b[0m \u001b[32m━━━━━━━━━━━━━━━━━━━━\u001b[0m\u001b[37m\u001b[0m \u001b[1m0s\u001b[0m 15ms/step - accuracy: 0.5539 - loss: 0.9372 - val_accuracy: 0.3077 - val_loss: 1.2870\n",
            "Epoch 49/50\n",
            "\u001b[1m4/4\u001b[0m \u001b[32m━━━━━━━━━━━━━━━━━━━━\u001b[0m\u001b[37m\u001b[0m \u001b[1m0s\u001b[0m 14ms/step - accuracy: 0.5789 - loss: 0.8680 - val_accuracy: 0.3077 - val_loss: 1.3125\n",
            "Epoch 50/50\n",
            "\u001b[1m4/4\u001b[0m \u001b[32m━━━━━━━━━━━━━━━━━━━━\u001b[0m\u001b[37m\u001b[0m \u001b[1m0s\u001b[0m 14ms/step - accuracy: 0.5224 - loss: 1.0347 - val_accuracy: 0.3077 - val_loss: 1.2314\n",
            "\u001b[1m1/1\u001b[0m \u001b[32m━━━━━━━━━━━━━━━━━━━━\u001b[0m\u001b[37m\u001b[0m \u001b[1m0s\u001b[0m 28ms/step - accuracy: 0.3077 - loss: 1.2314\n",
            "Test Loss: 1.2313638925552368, Test Accuracy: 0.3076923191547394\n"
          ]
        }
      ]
    },
    {
      "cell_type": "code",
      "source": [
        "# Save the model to an .h5 file\n",
        "model.save('/content/drive/MyDrive/Uwa FYP/Models/football_prediction_model.h5')\n",
        "print(\"Model saved to football_prediction_model.h5\")\n",
        "\n",
        "# Save the encoders and scaler\n",
        "import joblib\n",
        "joblib.dump(team_label_encoder, '/content/drive/MyDrive/Uwa FYP/Models/team_label_encoder.pkl')\n",
        "joblib.dump(outcome_label_encoder, '/content/drive/MyDrive/Uwa FYP/Models/outcome_label_encoder.pkl')\n",
        "joblib.dump(scaler, '/content/drive/MyDrive/Uwa FYP/Models/scaler.pkl')"
      ],
      "metadata": {
        "colab": {
          "base_uri": "https://localhost:8080/"
        },
        "id": "HDlNaISuU86W",
        "outputId": "b5cb7f69-f57b-4c2c-effd-72272ffb6c39"
      },
      "execution_count": 17,
      "outputs": [
        {
          "output_type": "stream",
          "name": "stderr",
          "text": [
            "WARNING:absl:You are saving your model as an HDF5 file via `model.save()` or `keras.saving.save_model(model)`. This file format is considered legacy. We recommend using instead the native Keras format, e.g. `model.save('my_model.keras')` or `keras.saving.save_model(model, 'my_model.keras')`. \n"
          ]
        },
        {
          "output_type": "stream",
          "name": "stdout",
          "text": [
            "Model saved to football_prediction_model.h5\n"
          ]
        },
        {
          "output_type": "execute_result",
          "data": {
            "text/plain": [
              "['/content/drive/MyDrive/Uwa FYP/Models/scaler.pkl']"
            ]
          },
          "metadata": {},
          "execution_count": 17
        }
      ]
    },
    {
      "cell_type": "code",
      "source": [
        "# Step 6: Predict the outcome of a new match\n",
        "def predict_outcome(home_team, away_team, year, month, day, temperature):\n",
        "    # Encode and scale the input data\n",
        "    home_team_encoded = team_label_encoder.transform([home_team])[0]\n",
        "    away_team_encoded = team_label_encoder.transform([away_team])[0]\n",
        "    temperature_scaled = scaler.transform([[temperature]])[0][0]\n",
        "\n",
        "    # Prepare the input for the model\n",
        "    input_data = np.array([[home_team_encoded, away_team_encoded, year, month, day, temperature_scaled]])\n",
        "    input_data = input_data.reshape((1, 1, 6))\n",
        "\n",
        "    # Make the prediction\n",
        "    prediction = model.predict(input_data)\n",
        "    outcome_index = np.argmax(prediction)\n",
        "\n",
        "    # Map the prediction back to the original outcome labels\n",
        "    outcome_label = outcome_label_encoder.inverse_transform([outcome_index])\n",
        "    return outcome_label[0]\n",
        "\n",
        "\n"
      ],
      "metadata": {
        "id": "Sk8bB4VVR9g4"
      },
      "execution_count": 5,
      "outputs": []
    },
    {
      "cell_type": "code",
      "source": [
        "# Example usage:\n",
        "home_team = 'England'\n",
        "away_team = 'Scotland'\n",
        "year = 2024\n",
        "month = 11  # November\n",
        "day = 25  # 25th day of the month\n",
        "temperature = 15\n",
        "\n",
        "predicted_outcome = predict_outcome(home_team, away_team, year, month, day, temperature)\n",
        "print(f\"The predicted outcome is: {predicted_outcome}\")"
      ],
      "metadata": {
        "colab": {
          "base_uri": "https://localhost:8080/"
        },
        "id": "hf4mqrOyR-3P",
        "outputId": "7583fa51-6647-4f66-85e0-071f07951746"
      },
      "execution_count": 15,
      "outputs": [
        {
          "output_type": "stream",
          "name": "stderr",
          "text": [
            "/usr/local/lib/python3.10/dist-packages/sklearn/base.py:465: UserWarning: X does not have valid feature names, but MinMaxScaler was fitted with feature names\n",
            "  warnings.warn(\n"
          ]
        },
        {
          "output_type": "stream",
          "name": "stdout",
          "text": [
            "\u001b[1m1/1\u001b[0m \u001b[32m━━━━━━━━━━━━━━━━━━━━\u001b[0m\u001b[37m\u001b[0m \u001b[1m1s\u001b[0m 1s/step\n",
            "The predicted outcome is: home_win\n"
          ]
        }
      ]
    }
  ]
}